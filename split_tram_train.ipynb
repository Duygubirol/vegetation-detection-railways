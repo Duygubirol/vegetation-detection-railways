{
 "cells": [
  {
   "cell_type": "code",
   "execution_count": 1,
   "metadata": {},
   "outputs": [],
   "source": [
    "import os\n",
    "import cv2\n",
    "import numpy as np\n",
    "import glob\n",
    "from matplotlib import pyplot as plt\n",
    "from matplotlib.pyplot import figure"
   ]
  },
  {
   "cell_type": "code",
   "execution_count": 2,
   "metadata": {},
   "outputs": [],
   "source": [
    "CLASSES = ['road',\n",
    "        'sidewalk',\n",
    "        'construction',\n",
    "        'tram-track',\n",
    "        'fence',\n",
    "        'pole',\n",
    "        'traffic-light',\n",
    "        'traffic-sign',\n",
    "        'vegetation',\n",
    "        'terrain',\n",
    "        'sky',\n",
    "        'human',\n",
    "        'rail-track',\n",
    "        'car',\n",
    "        'truck',\n",
    "        'trackbed',\n",
    "        'on-rails',\n",
    "        'rail-raised',\n",
    "        'rail-embedded']"
   ]
  },
  {
   "cell_type": "code",
   "execution_count": 3,
   "metadata": {},
   "outputs": [
    {
     "data": {
      "text/plain": [
       "'tram-track'"
      ]
     },
     "execution_count": 3,
     "metadata": {},
     "output_type": "execute_result"
    }
   ],
   "source": [
    "CLASSES[3]"
   ]
  },
  {
   "cell_type": "code",
   "execution_count": 13,
   "metadata": {},
   "outputs": [],
   "source": [
    "#these codes are used to loop through the directory\n",
    "path_images = 'rs19_val/uint8/rs19_val'\n",
    "\n",
    "breaker = 0\n",
    "\n",
    "list_tram=[]\n",
    "for filename in os.listdir(path_images):\n",
    "    breaker +=1\n",
    "    if filename.endswith('.png'):    \n",
    "        mask = cv2.imread('rs19_val/uint8/rs19_val/'+filename) \n",
    "        labels = np.unique(temp_mask[:,:,0]) \n",
    "        if 3 in labels:\n",
    "            list_tram.append(filename)\n",
    "    if len(list_tram) == 10:\n",
    "        break\n",
    "      \n"
   ]
  },
  {
   "cell_type": "code",
   "execution_count": 11,
   "metadata": {},
   "outputs": [
    {
     "data": {
      "text/plain": [
       "array([ 1,  5,  7,  8,  9, 10, 12, 15, 17], dtype=uint8)"
      ]
     },
     "execution_count": 11,
     "metadata": {},
     "output_type": "execute_result"
    }
   ],
   "source": [
    "#check which labels are in the image\n",
    "temp_mask = cv2.imread('rs19_val/uint8/rs19_val/rs08171.png') \n",
    "labels = np.unique(temp_mask[:,:,0]) \n",
    "labels"
   ]
  },
  {
   "cell_type": "code",
   "execution_count": 10,
   "metadata": {},
   "outputs": [
    {
     "data": {
      "text/plain": [
       "True"
      ]
     },
     "execution_count": 10,
     "metadata": {},
     "output_type": "execute_result"
    }
   ],
   "source": [
    "1 in labels"
   ]
  },
  {
   "cell_type": "code",
   "execution_count": null,
   "metadata": {},
   "outputs": [],
   "source": []
  }
 ],
 "metadata": {
  "interpreter": {
   "hash": "5637242735df105300a10f363d5c0d18b4b77d7105ef62addc8c3980e22cd89c"
  },
  "kernelspec": {
   "display_name": "Python 3.8.5 ('base')",
   "language": "python",
   "name": "python3"
  },
  "language_info": {
   "codemirror_mode": {
    "name": "ipython",
    "version": 3
   },
   "file_extension": ".py",
   "mimetype": "text/x-python",
   "name": "python",
   "nbconvert_exporter": "python",
   "pygments_lexer": "ipython3",
   "version": "3.8.5"
  },
  "orig_nbformat": 4
 },
 "nbformat": 4,
 "nbformat_minor": 2
}
